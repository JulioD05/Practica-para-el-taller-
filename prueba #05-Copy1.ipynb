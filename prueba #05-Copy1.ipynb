{
 "cells": [
  {
   "cell_type": "markdown",
   "id": "b2072e58",
   "metadata": {},
   "source": [
    "# DESCRIPCION DE TRABAJADOR "
   ]
  },
  {
   "cell_type": "code",
   "execution_count": 9,
   "id": "eaf5f4de",
   "metadata": {},
   "outputs": [
    {
     "name": "stdout",
     "output_type": "stream",
     "text": [
      " nombre? julio\n",
      " barrio? nicolas \n",
      " edad actual 17\n",
      "Hola julio de el barrio nicolas , tu edad es de 17 años\n"
     ]
    }
   ],
   "source": [
    "name = input(\" nombre? \")\n",
    "Place = input(\" barrio? \")\n",
    "age = input(\" edad actual \")\n",
    "print(\"Hola \" + name + \" de el barrio \" + Place +\",\" + \" tu edad es de \" + str(age) + \" años\")"
   ]
  },
  {
   "cell_type": "markdown",
   "id": "577ced2e",
   "metadata": {},
   "source": [
    "#  ortoedro, cilindro, esfera."
   ]
  },
  {
   "cell_type": "code",
   "execution_count": 2,
   "id": "bcc866eb",
   "metadata": {},
   "outputs": [
    {
     "name": "stdout",
     "output_type": "stream",
     "text": [
      "numero2\n",
      "numero3\n",
      "el resultado es:  5\n"
     ]
    }
   ],
   "source": [
    "a = input(\"numero\")\n",
    "b = input(\"numero\")\n",
    "x = int(a) + int(b)\n",
    "print(\"el resultado es: \" , x)"
   ]
  },
  {
   "cell_type": "code",
   "execution_count": 10,
   "id": "8e83b06f",
   "metadata": {},
   "outputs": [
    {
     "name": "stdout",
     "output_type": "stream",
     "text": [
      "10\n"
     ]
    }
   ],
   "source": [
    "\n",
    "x = 5\n",
    "b = 2\n",
    "print(x*b)\n",
    "\n"
   ]
  },
  {
   "cell_type": "code",
   "execution_count": 15,
   "id": "7198aeec",
   "metadata": {},
   "outputs": [
    {
     "name": "stdout",
     "output_type": "stream",
     "text": [
      " altura 3\n",
      " longitud 5\n",
      " profundidad 7\n",
      "el volumen del ortoedro es: 105 cm3\n"
     ]
    }
   ],
   "source": [
    "#volumen \n",
    "a = input(\" altura \")\n",
    "b = input(\" longitud \")\n",
    "c = input(\" profundidad \")\n",
    "x = int(a) * int(b) * int(c)\n",
    "print(\"el volumen del ortoedro es:\" , x , \"cm3\")"
   ]
  },
  {
   "cell_type": "code",
   "execution_count": 17,
   "id": "e47c31af",
   "metadata": {},
   "outputs": [
    {
     "name": "stdout",
     "output_type": "stream",
     "text": [
      " altura 2\n",
      " longitud 3\n",
      " profundidad 5\n",
      "el area de el ortoedro es de: 62 cm2\n"
     ]
    }
   ],
   "source": [
    "#area \n",
    "a = input(\" altura \")\n",
    "b = input(\" longitud \")\n",
    "c = input(\" profundidad \")\n",
    "x = int(a) * int(b)\n",
    "z = int(a) * int(c)\n",
    "y = int(c) * int(b)\n",
    "j = int(x) + int(z) + int(y)\n",
    "area = int(j) * 2\n",
    "print(\"el area de el ortoedro es de:\" , area , \"cm2\")"
   ]
  },
  {
   "cell_type": "code",
   "execution_count": 39,
   "id": "46bf1fb2",
   "metadata": {},
   "outputs": [
    {
     "name": "stdout",
     "output_type": "stream",
     "text": [
      " altura 10\n",
      " radio 6\n",
      "el volumen del cilindro es:  1130.9759999999999 cm3\n"
     ]
    }
   ],
   "source": [
    "# volumen de cilindro \n",
    "a = input(\" altura \")\n",
    "r = input(\" radio \")\n",
    "c = 3.1416\n",
    "j = float(r)**2\n",
    "x = float(a) * float(j) * float(c)\n",
    "print(\"el volumen del cilindro es: \" , x , \"cm3\")"
   ]
  },
  {
   "cell_type": "code",
   "execution_count": 38,
   "id": "ea800910",
   "metadata": {},
   "outputs": [
    {
     "name": "stdout",
     "output_type": "stream",
     "text": [
      " altura 10\n",
      " radio 6\n",
      "el area total del cilindro es:  603.1872 cm2\n"
     ]
    }
   ],
   "source": [
    "#area de cilindro \n",
    "a = input(\" altura \")\n",
    "r = input(\" radio \")\n",
    "c = 3.1416\n",
    "j = float(r)**2\n",
    "q = float(c)*2 \n",
    "x = float(q) * float(r) * float(a) + float(q) * float(j)\n",
    "print(\"el area total del cilindro es: \" , x , \"cm2\")"
   ]
  },
  {
   "cell_type": "code",
   "execution_count": 40,
   "id": "aaeeb6bf",
   "metadata": {},
   "outputs": [
    {
     "name": "stdout",
     "output_type": "stream",
     "text": [
      " radio 2\n",
      "50.2656\n"
     ]
    }
   ],
   "source": [
    "#area de esfera \n",
    "r = input(\" radio \")\n",
    "c = 3.1416\n",
    "j = float(r)**2\n",
    "q = float(c)*4\n",
    "x = float(q) * float(j)\n",
    "print(x)"
   ]
  },
  {
   "cell_type": "code",
   "execution_count": 41,
   "id": "6df4b2fb",
   "metadata": {},
   "outputs": [
    {
     "name": "stdout",
     "output_type": "stream",
     "text": [
      " radio 2\n",
      "33.5104\n"
     ]
    }
   ],
   "source": [
    "#volumen esfera\n",
    "#area de esfera \n",
    "r = input(\" radio \")\n",
    "c = 3.1416\n",
    "j = float(r)**3\n",
    "q = float(c)*4/3\n",
    "x = float(q) * float(j)\n",
    "print(x)"
   ]
  },
  {
   "cell_type": "code",
   "execution_count": 43,
   "id": "15aa0a9a",
   "metadata": {},
   "outputs": [
    {
     "name": "stdout",
     "output_type": "stream",
     "text": [
      "True\n"
     ]
    }
   ],
   "source": [
    "a = 5\n",
    "b = 2\n",
    "c = 3\n",
    "d = -2\n",
    "print(b<a)\n",
    "\n"
   ]
  },
  {
   "cell_type": "code",
   "execution_count": 44,
   "id": "fd5e6d2d",
   "metadata": {},
   "outputs": [
    {
     "name": "stdout",
     "output_type": "stream",
     "text": [
      "posición de la particula en el primer instante, es:  3.0\n"
     ]
    }
   ],
   "source": [
    "#primer instante\n",
    "v = 5\n",
    "p = 3 \n",
    "a = 6 \n",
    "t = 0\n",
    "y = float(t)**2\n",
    "j = float(v)*float(t)\n",
    "m = float(a)*float(y)*1/2\n",
    "x = float(p) + float(j) + float(m)\n",
    "print(\"posición de la particula en el primer instante, es: \" , x)"
   ]
  },
  {
   "cell_type": "code",
   "execution_count": 45,
   "id": "2f7fe652",
   "metadata": {},
   "outputs": [
    {
     "name": "stdout",
     "output_type": "stream",
     "text": [
      "posición de la particula en el segundo instante, es:  103.0\n"
     ]
    }
   ],
   "source": [
    "#segundo instante\n",
    "v = 5\n",
    "p = 3 \n",
    "a = 6 \n",
    "t = 5\n",
    "y = float(t)**2\n",
    "j = float(v)*float(t)\n",
    "m = float(a)*float(y)*1/2\n",
    "x = float(p) + float(j) + float(m)\n",
    "print(\"posición de la particula en el segundo instante, es: \" , x)"
   ]
  },
  {
   "cell_type": "code",
   "execution_count": 48,
   "id": "e9152191",
   "metadata": {},
   "outputs": [
    {
     "data": {
      "text/plain": [
       "5.0"
      ]
     },
     "execution_count": 48,
     "metadata": {},
     "output_type": "execute_result"
    }
   ],
   "source": [
    "import math\n",
    "math.sqrt(25)"
   ]
  },
  {
   "cell_type": "code",
   "execution_count": 52,
   "id": "e6836836",
   "metadata": {},
   "outputs": [
    {
     "name": "stdout",
     "output_type": "stream",
     "text": [
      "la distancia entre los dos puntos P1 y P2 es de: 7.0710678118654755 mm\n"
     ]
    }
   ],
   "source": [
    "#distancia #1\n",
    "x1 = 2\n",
    "x2 = -5\n",
    "y1 = 3\n",
    "y2 = 4\n",
    "\n",
    "h = float(x2) - float(x1)\n",
    "j = float(y2) - float(y1)\n",
    "k = float(h)**2 + float(j)**2\n",
    "\n",
    "d = k \n",
    "\n",
    "import math \n",
    "print(\"la distancia entre los dos puntos P1 y P2 es de:\" , math.sqrt(float(d)) , \"mm\")\n",
    "\n",
    "\n",
    "\n",
    "\n"
   ]
  },
  {
   "cell_type": "code",
   "execution_count": 58,
   "id": "c2e9b9b6",
   "metadata": {},
   "outputs": [
    {
     "name": "stdout",
     "output_type": "stream",
     "text": [
      "la distancia entre los dos puntos P1 y P2 es de: 6.708203932499369 mm\n"
     ]
    }
   ],
   "source": [
    "#distancia #2\n",
    "x1 = 0\n",
    "x2 = 6\n",
    "y1 = -2\n",
    "y2 = 1\n",
    "d = k\n",
    "\n",
    "h = float(x2) - float(x1)\n",
    "j = float(y2) - float(y1)\n",
    "k = float(h)**2 + float(j)**2\n",
    "\n",
    "if k > 0: \n",
    "    import math \n",
    "print(\"la distancia entre los dos puntos P1 y P2 es de:\" , math.sqrt(float(d)) , \"mm\")\n"
   ]
  },
  {
   "cell_type": "code",
   "execution_count": 63,
   "id": "26dd9d58",
   "metadata": {},
   "outputs": [
    {
     "name": "stdout",
     "output_type": "stream",
     "text": [
      "1\n",
      "1\n",
      "2\n",
      "3\n",
      "5\n"
     ]
    }
   ],
   "source": [
    "# figo\n",
    "def fib(n):\n",
    "    a = 0 \n",
    "    b = 1\n",
    "    \n",
    "    for k in range(n):\n",
    "        c = a+b\n",
    "        a = b \n",
    "        b = c \n",
    "        \n",
    "    return b\n",
    "for x in range(5): \n",
    "    print(fib(x))\n",
    "    \n"
   ]
  },
  {
   "cell_type": "code",
   "execution_count": 66,
   "id": "3e557fc5",
   "metadata": {},
   "outputs": [
    {
     "name": "stdout",
     "output_type": "stream",
     "text": [
      "Ingrese numero: 3\n",
      "Factorial:  6\n"
     ]
    }
   ],
   "source": [
    "#factorial \n",
    "num = int(input(\"Ingrese numero: \"))\n",
    "fac = 1\n",
    "if num != 0:\n",
    "    for i in range(1, num + 1):\n",
    "        fac = fac * i \n",
    "print(\"Factorial: \",fac)\n"
   ]
  },
  {
   "cell_type": "code",
   "execution_count": null,
   "id": "42d6b511",
   "metadata": {},
   "outputs": [],
   "source": []
  }
 ],
 "metadata": {
  "kernelspec": {
   "display_name": "Python 3 (ipykernel)",
   "language": "python",
   "name": "python3"
  },
  "language_info": {
   "codemirror_mode": {
    "name": "ipython",
    "version": 3
   },
   "file_extension": ".py",
   "mimetype": "text/x-python",
   "name": "python",
   "nbconvert_exporter": "python",
   "pygments_lexer": "ipython3",
   "version": "3.11.2"
  }
 },
 "nbformat": 4,
 "nbformat_minor": 5
}
